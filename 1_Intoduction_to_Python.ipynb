{
 "cells": [
  {
   "cell_type": "code",
   "execution_count": 2,
   "metadata": {},
   "outputs": [
    {
     "name": "stdout",
     "output_type": "stream",
     "text": [
      "4\n"
     ]
    }
   ],
   "source": [
    "print (2+2)"
   ]
  },
  {
   "cell_type": "code",
   "execution_count": 3,
   "metadata": {},
   "outputs": [
    {
     "name": "stdout",
     "output_type": "stream",
     "text": [
      "Hello Word\n"
     ]
    }
   ],
   "source": [
    "print(\"Hello Word\")"
   ]
  },
  {
   "cell_type": "markdown",
   "metadata": {},
   "source": [
    "# Intro to Python\n",
    "## Shortcuts\n",
    "1. Shift + Enter (Run the cell and goes to next cell)\n",
    "2. Ctrl + Enter  (Run the cell and remains in the same cell)\n",
    "3. Alt + Enter   (Run the cell and goes to next cell after creating the next cell)\n",
    "4. Tab           (prompts the functions starting with the keyword)      \n",
    "5. Shift + Tab   (prompts what the function does)\n"
   ]
  },
  {
   "cell_type": "code",
   "execution_count": 8,
   "metadata": {},
   "outputs": [
    {
     "name": "stdout",
     "output_type": "stream",
     "text": [
      "five times a is  15 three times a is  9\n",
      "five times a is  10 three times a is  6\n"
     ]
    }
   ],
   "source": [
    "a=3\n",
    "print (\"five times a is \", 5*a, \"three times a is \", 3*a)\n",
    "a=2\n",
    "print (\"five times a is \", 5*a, \"three times a is \", 3*a)"
   ]
  },
  {
   "cell_type": "code",
   "execution_count": 6,
   "metadata": {},
   "outputs": [
    {
     "name": "stdout",
     "output_type": "stream",
     "text": [
      "3\n"
     ]
    }
   ],
   "source": [
    "print (a)"
   ]
  },
  {
   "cell_type": "code",
   "execution_count": 10,
   "metadata": {},
   "outputs": [
    {
     "name": "stdout",
     "output_type": "stream",
     "text": [
      "a is type <class 'int'>\n",
      "b is type <class 'float'>\n",
      "c is type <class 'float'>\n"
     ]
    }
   ],
   "source": [
    "# We can also inspect the type of the variable\n",
    "print ('a is type', type (a))\n",
    "b=2.1\n",
    "print ('b is type', type (b))\n",
    "c=a/b\n",
    "print ('c is type', type (c))\n"
   ]
  },
  {
   "cell_type": "markdown",
   "metadata": {},
   "source": [
    "# Collection Of Varibales\n",
    "## 4 types of collection of variables in python\n",
    "1. List\n",
    "2. Touple\n",
    "3. Set\n",
    "4. dictionary"
   ]
  },
  {
   "cell_type": "markdown",
   "metadata": {},
   "source": [
    "# LIST"
   ]
  },
  {
   "cell_type": "code",
   "execution_count": 16,
   "metadata": {},
   "outputs": [
    {
     "name": "stdout",
     "output_type": "stream",
     "text": [
      "['Dan', 2, 3, 4, 'python', 2.71]\n",
      "Dan\n",
      "4\n",
      "2.71\n",
      "python\n",
      "6\n"
     ]
    }
   ],
   "source": [
    "#LIST []: is an orered and indexed collection of values that are changeable and allows duplicates\n",
    "simple_list = ['Dan',2,3,4,\"python\",2.71]\n",
    "print (simple_list)\n",
    "print(simple_list[0])\n",
    "print(simple_list[3])\n",
    "print(simple_list[-1])\n",
    "print(simple_list[-2])\n",
    "print(len(simple_list))"
   ]
  },
  {
   "cell_type": "code",
   "execution_count": 22,
   "metadata": {},
   "outputs": [
    {
     "name": "stdout",
     "output_type": "stream",
     "text": [
      "['Dan', 2, 3, 44, 2.71, 'to the back', 'to the back', 'to the back', 'to the back']\n",
      "10\n",
      "['Dan', 2, 3, 44, 'to the back', 'to the back', 'to the back', 'to the back', 'to the back']\n"
     ]
    }
   ],
   "source": [
    "#Its easy to change entries of the list\n",
    "simple_list[3]= 44\n",
    "print (simple_list)\n",
    "#add a new ite, to the list\n",
    "simple_list.append('to the back')\n",
    "print(len(simple_list))\n",
    "#remove an item from the list\n",
    "simple_list.pop(4)\n",
    "print(simple_list)"
   ]
  },
  {
   "cell_type": "code",
   "execution_count": 23,
   "metadata": {},
   "outputs": [
    {
     "name": "stdout",
     "output_type": "stream",
     "text": [
      "[5, 5, 5, 5]\n"
     ]
    }
   ],
   "source": [
    "#It is easy to initiate a list of a aprticular size with repeated entries\n",
    "repeated_list = [5]*4\n",
    "print(repeated_list)"
   ]
  },
  {
   "cell_type": "code",
   "execution_count": 32,
   "metadata": {},
   "outputs": [
    {
     "name": "stdout",
     "output_type": "stream",
     "text": [
      "['Dan', [1, 2, 3], 3, 44, 'to the back', 'to the back', 'to the back', 'to the back', 'to the back']\n",
      "[1, 2, 3]\n",
      "2\n"
     ]
    }
   ],
   "source": [
    "#We can use lists as entries of a list\n",
    "simple_list[1] = [1,2,3]\n",
    "print(simple_list)\n",
    "print(simple_list[1])\n",
    "print(simple_list[1][1])"
   ]
  },
  {
   "cell_type": "code",
   "execution_count": 34,
   "metadata": {},
   "outputs": [
    {
     "name": "stdout",
     "output_type": "stream",
     "text": [
      "['Dan', [1, 2, 3], 3, 44, 'to the back', 'to the back', 'to the back', 'to the back', 'to the back']\n",
      "['Dan', [1, 2, 3], 3, 44, 'to the back', 'to the back', 'to the back', 'to the back', 'to the back']\n",
      "['Dan', 0, 3, 44, 'to the back', 'to the back', 'to the back', 'to the back', 'to the back']\n",
      "['Dan', 0, 3, 44, 'to the back', 'to the back', 'to the back', 'to the back', 'to the back']\n"
     ]
    }
   ],
   "source": [
    "#Copying list is a litle tricky\n",
    "list2 = simple_list\n",
    "print(list2)\n",
    "print(simple_list)\n",
    "list2[1]=0\n",
    "print(list2)\n",
    "print(simple_list)"
   ]
  },
  {
   "cell_type": "code",
   "execution_count": null,
   "metadata": {},
   "outputs": [],
   "source": [
    "#We must copy the method to prevent this"
   ]
  },
  {
   "cell_type": "code",
   "execution_count": 49,
   "metadata": {},
   "outputs": [
    {
     "name": "stdout",
     "output_type": "stream",
     "text": [
      "['Dan', 0, 3, 44, 'to the back', 'to the back', 'to the back', 'to the back', 'to the back']\n",
      "['Dan', 0, 3, 44, 'to the back', 'to the back', 'to the back', 'to the back', 'to the back']\n",
      "['Dan', 0, 3, 44, 'to the back', 'to the back', 'to the back', 'to the back', 'to the back']\n",
      "['Dan', 0, 3, 44, 'to the back', 'to the back', 'to the back', 'to the back', 'to the back']\n"
     ]
    }
   ],
   "source": [
    "list4 = simple_list.copy()\n",
    "print(list4)\n",
    "print(simple_list)\n",
    "list4[1]=0\n",
    "print(list4)\n",
    "print(simple_list)"
   ]
  },
  {
   "cell_type": "markdown",
   "metadata": {},
   "source": [
    "# TUPLE"
   ]
  },
  {
   "cell_type": "code",
   "execution_count": 37,
   "metadata": {},
   "outputs": [
    {
     "name": "stdout",
     "output_type": "stream",
     "text": [
      "(12, 42, 11, 99, 2351)\n",
      "42\n"
     ]
    }
   ],
   "source": [
    "# A TUPLE () is an ordered collection of values that are unchangeable and allow duplicates\n",
    "simple_tuple = (12,42,11,99,2351)\n",
    "print(simple_tuple)\n",
    "print(simple_tuple[1])"
   ]
  },
  {
   "cell_type": "code",
   "execution_count": 38,
   "metadata": {},
   "outputs": [
    {
     "ename": "TypeError",
     "evalue": "'tuple' object does not support item assignment",
     "output_type": "error",
     "traceback": [
      "\u001b[0;31m---------------------------------------------------------------------------\u001b[0m",
      "\u001b[0;31mTypeError\u001b[0m                                 Traceback (most recent call last)",
      "\u001b[0;32m<ipython-input-38-bc4850e1def7>\u001b[0m in \u001b[0;36m<module>\u001b[0;34m\u001b[0m\n\u001b[1;32m      1\u001b[0m \u001b[0;31m#Its not possible to change values in a tuple\u001b[0m\u001b[0;34m\u001b[0m\u001b[0;34m\u001b[0m\u001b[0;34m\u001b[0m\u001b[0m\n\u001b[0;32m----> 2\u001b[0;31m \u001b[0msimple_tuple\u001b[0m\u001b[0;34m[\u001b[0m\u001b[0;36m0\u001b[0m\u001b[0;34m]\u001b[0m\u001b[0;34m=\u001b[0m\u001b[0;36m5\u001b[0m\u001b[0;34m\u001b[0m\u001b[0;34m\u001b[0m\u001b[0m\n\u001b[0m",
      "\u001b[0;31mTypeError\u001b[0m: 'tuple' object does not support item assignment"
     ]
    }
   ],
   "source": [
    "#Its not possible to change values in a tuple\n",
    "simple_tuple[0]=5"
   ]
  },
  {
   "cell_type": "code",
   "execution_count": 50,
   "metadata": {},
   "outputs": [
    {
     "name": "stdout",
     "output_type": "stream",
     "text": [
      "[5, 42, 11, 99, 2351]\n"
     ]
    }
   ],
   "source": [
    "#We can work around this though\n",
    "dummy = list(simple_tuple)\n",
    "dummy[0]=5\n",
    "print(dummy)"
   ]
  },
  {
   "cell_type": "markdown",
   "metadata": {},
   "source": [
    "# SET"
   ]
  },
  {
   "cell_type": "code",
   "execution_count": 41,
   "metadata": {},
   "outputs": [
    {
     "name": "stdout",
     "output_type": "stream",
     "text": [
      "{11, 'water', -2, 15}\n"
     ]
    }
   ],
   "source": [
    "# A SET {} is an unordered+changeable+no duplicates values\n",
    "simple_set = {11,-2,15,-2, 'water'}\n",
    "print(simple_set)\n"
   ]
  },
  {
   "cell_type": "code",
   "execution_count": 42,
   "metadata": {},
   "outputs": [
    {
     "ename": "SyntaxError",
     "evalue": "Missing parentheses in call to 'print'. Did you mean print(simple_set[1])? (<ipython-input-42-e9eb89440de2>, line 1)",
     "output_type": "error",
     "traceback": [
      "\u001b[0;36m  File \u001b[0;32m\"<ipython-input-42-e9eb89440de2>\"\u001b[0;36m, line \u001b[0;32m1\u001b[0m\n\u001b[0;31m    print simple_set[1]\u001b[0m\n\u001b[0m                   ^\u001b[0m\n\u001b[0;31mSyntaxError\u001b[0m\u001b[0;31m:\u001b[0m Missing parentheses in call to 'print'. Did you mean print(simple_set[1])?\n"
     ]
    }
   ],
   "source": [
    "print simple_set[1] #error since no index"
   ]
  },
  {
   "cell_type": "code",
   "execution_count": 44,
   "metadata": {},
   "outputs": [
    {
     "name": "stdout",
     "output_type": "stream",
     "text": [
      "True\n"
     ]
    }
   ],
   "source": [
    "print (\"water\" in simple_set)"
   ]
  },
  {
   "cell_type": "code",
   "execution_count": 47,
   "metadata": {},
   "outputs": [
    {
     "name": "stdout",
     "output_type": "stream",
     "text": [
      "{'water', 11, 15, 5555, -2}\n",
      "{'water', 11, 5555, -2}\n"
     ]
    }
   ],
   "source": [
    "#We cant change but add/remove values in a set : .add() and .remove())\n",
    "simple_set.add(5555)\n",
    "print (simple_set)\n",
    "simple_set.remove(15)\n",
    "print (simple_set)"
   ]
  },
  {
   "cell_type": "markdown",
   "metadata": {},
   "source": [
    "# DICTIONARY"
   ]
  },
  {
   "cell_type": "code",
   "execution_count": 58,
   "metadata": {},
   "outputs": [
    {
     "name": "stdout",
     "output_type": "stream",
     "text": [
      "{'brand': 'Apple', 'product': 'Iphone', 'model': 'XR'}\n",
      " I Bought an Iphone of model XR from my fav Apple\n"
     ]
    }
   ],
   "source": [
    "# A Dictionary is a collection if values that are unordered (but indexed) and changeable\n",
    "simple_dict = {\n",
    "    \"brand\" : \"Apple\",\n",
    "    \"product\" : \"Iphone\",\n",
    "    \"model\" : \"XR\"\n",
    "}\n",
    "print(simple_dict)\n",
    "print(\" I Bought an\", simple_dict['product'], \"of model\", simple_dict['model'], 'from my fav', simple_dict['brand'])"
   ]
  },
  {
   "cell_type": "code",
   "execution_count": 60,
   "metadata": {},
   "outputs": [
    {
     "name": "stdout",
     "output_type": "stream",
     "text": [
      "{'brand': 'Apple', 'product': 'Iphone', 'model': '11'}\n"
     ]
    }
   ],
   "source": [
    "simple_dict['model'] = '11'\n",
    "print(simple_dict)"
   ]
  },
  {
   "cell_type": "code",
   "execution_count": 61,
   "metadata": {},
   "outputs": [
    {
     "name": "stdout",
     "output_type": "stream",
     "text": [
      "{'brand': 'Apple', 'product': 'Iphone', 'model': '11', 'color': 'red'}\n"
     ]
    }
   ],
   "source": [
    "simple_dict['color'] = 'red'\n",
    "print(simple_dict)"
   ]
  },
  {
   "cell_type": "markdown",
   "metadata": {},
   "source": [
    "# ACCESSING DATA IN LIST\n",
    "### LIST is our main data type for now, later we will use Numpy Arrays, rules for both LISTs and NUMPY ARRAYS are same with NUMPY we can access data in more ways"
   ]
  },
  {
   "cell_type": "code",
   "execution_count": 63,
   "metadata": {},
   "outputs": [
    {
     "name": "stdout",
     "output_type": "stream",
     "text": [
      "[2, 7, 3]\n"
     ]
    }
   ],
   "source": [
    "simple_list = [1,5,2,7,3,66,1923,11]\n",
    "print (simple_list[2:5])\n",
    "#no to left of coln is inclusive but right of colon is exclusive"
   ]
  },
  {
   "cell_type": "code",
   "execution_count": 64,
   "metadata": {},
   "outputs": [
    {
     "name": "stdout",
     "output_type": "stream",
     "text": [
      "[7, 3, 66, 1923]\n"
     ]
    }
   ],
   "source": [
    "print(simple_list[-5:-1])"
   ]
  },
  {
   "cell_type": "code",
   "execution_count": 67,
   "metadata": {},
   "outputs": [
    {
     "name": "stdout",
     "output_type": "stream",
     "text": [
      "[2]\n"
     ]
    }
   ],
   "source": [
    "print (simple_list[2:3])"
   ]
  },
  {
   "cell_type": "markdown",
   "metadata": {},
   "source": [
    "# FLOW CONTROL (Loops & Conditions)"
   ]
  },
  {
   "cell_type": "markdown",
   "metadata": {},
   "source": [
    "# Loops"
   ]
  },
  {
   "cell_type": "code",
   "execution_count": null,
   "metadata": {},
   "outputs": [],
   "source": [
    "#For loops\n",
    "#One common method is to loop throug a list, we can choose other aggregated variables\n",
    "#One rule remains same: Insodes fo a loop are determined by tabs!!!!!\n",
    "# This is also true for conditionals + user defined functions!!!"
   ]
  },
  {
   "cell_type": "code",
   "execution_count": 68,
   "metadata": {},
   "outputs": [
    {
     "name": "stdout",
     "output_type": "stream",
     "text": [
      "0\n",
      "1\n",
      "2\n",
      "3\n",
      "4\n",
      "5\n",
      "6\n",
      "2143\n",
      "123\n",
      "7834\n",
      "this line is not inside the loop\n",
      "this loop cycled 10 times\n"
     ]
    }
   ],
   "source": [
    "counter = 0\n",
    "simple_list = [0,1,2,3,4,5,6,2143,123,7834]\n",
    "for i in simple_list:\n",
    "    print (i)\n",
    "    counter = counter + 1\n",
    "print ('this line is not inside the loop')\n",
    "print ('this loop cycled',counter,'times')"
   ]
  },
  {
   "cell_type": "code",
   "execution_count": 70,
   "metadata": {},
   "outputs": [
    {
     "name": "stdout",
     "output_type": "stream",
     "text": [
      "4\n",
      "5\n",
      "6\n",
      "outside of j loop\n",
      "8\n",
      "10\n",
      "12\n",
      "outside of j loop\n",
      "12\n",
      "15\n",
      "18\n",
      "outside of j loop\n",
      "outside of booth loops\n"
     ]
    }
   ],
   "source": [
    "for i in simple_list[1:4]:\n",
    "    for j in simple_list[4:7]:\n",
    "        print(i*j)\n",
    "    print('outside of j loop')    \n",
    "print('outside of booth loops')        "
   ]
  },
  {
   "cell_type": "code",
   "execution_count": 71,
   "metadata": {},
   "outputs": [
    {
     "name": "stdout",
     "output_type": "stream",
     "text": [
      "range(0, 6)\n"
     ]
    }
   ],
   "source": [
    "#We may want to loop over a range of values\n",
    "# We can do this with a 'range' type\n",
    "print(range(6))"
   ]
  },
  {
   "cell_type": "code",
   "execution_count": 72,
   "metadata": {},
   "outputs": [
    {
     "name": "stdout",
     "output_type": "stream",
     "text": [
      "0\n",
      "1\n",
      "2\n",
      "3\n",
      "4\n",
      "5\n"
     ]
    }
   ],
   "source": [
    "for i in range(6):\n",
    "    print(i)"
   ]
  },
  {
   "cell_type": "code",
   "execution_count": 73,
   "metadata": {},
   "outputs": [
    {
     "name": "stdout",
     "output_type": "stream",
     "text": [
      "4\n",
      "5\n",
      "6\n",
      "7\n",
      "8\n",
      "9\n"
     ]
    }
   ],
   "source": [
    "#We can also specify the starting of the range (left inclusive , right exclusive)\n",
    "for i in range(4,10):\n",
    "    print(i)"
   ]
  },
  {
   "cell_type": "code",
   "execution_count": 75,
   "metadata": {},
   "outputs": [
    {
     "name": "stdout",
     "output_type": "stream",
     "text": [
      "2\n",
      "4\n",
      "6\n",
      "8\n"
     ]
    }
   ],
   "source": [
    "# We can also increment in the range by specific amount\n",
    "for i in range(2,10,2):\n",
    "    print(i)"
   ]
  },
  {
   "cell_type": "code",
   "execution_count": 77,
   "metadata": {},
   "outputs": [
    {
     "data": {
      "text/plain": [
       "[6, 9, 12]"
      ]
     },
     "execution_count": 77,
     "metadata": {},
     "output_type": "execute_result"
    }
   ],
   "source": [
    "# We can convert a range to a list by type casting it into a list\n",
    "list(range(6,15,3))"
   ]
  },
  {
   "cell_type": "markdown",
   "metadata": {},
   "source": [
    "# WHILE LOOPS"
   ]
  },
  {
   "cell_type": "code",
   "execution_count": 78,
   "metadata": {},
   "outputs": [
    {
     "name": "stdout",
     "output_type": "stream",
     "text": [
      "4\n",
      "5\n",
      "6\n",
      "7\n",
      "8\n",
      "9\n",
      "10\n",
      "outside of while loop\n"
     ]
    }
   ],
   "source": [
    "# WHile loops simillar to For loops and the interior of the loop is defined by tab\n",
    "i=4\n",
    "while i<=10:\n",
    "    print(i)\n",
    "    i=i+1\n",
    "print('outside of while loop')"
   ]
  },
  {
   "cell_type": "markdown",
   "metadata": {},
   "source": [
    "# CONDITIONS\n",
    "\n",
    "1. if \n",
    "2. else\n",
    "3. elif"
   ]
  },
  {
   "cell_type": "code",
   "execution_count": 81,
   "metadata": {},
   "outputs": [
    {
     "name": "stdout",
     "output_type": "stream",
     "text": [
      "1 is less than 10\n"
     ]
    }
   ],
   "source": [
    "i=1\n",
    "if i<10:\n",
    "    print(i,'is less than 10')\n",
    "else:\n",
    "    print(i,'is more than 10') "
   ]
  },
  {
   "cell_type": "code",
   "execution_count": 83,
   "metadata": {},
   "outputs": [
    {
     "name": "stdout",
     "output_type": "stream",
     "text": [
      "11 is greater than 10\n"
     ]
    }
   ],
   "source": [
    "i=11\n",
    "if i >10:\n",
    "    print(i, 'is greater than 10')\n",
    "elif i < 3:\n",
    "    print (i, 'is less than 3')\n",
    "else: \n",
    "    print (i, 'is betwen 3 and 4')"
   ]
  },
  {
   "cell_type": "markdown",
   "metadata": {},
   "source": [
    "# USER DEFINED FUNCTIONS\n",
    "1. Defined Functions\n",
    "2. Lambda function (inline)"
   ]
  },
  {
   "cell_type": "code",
   "execution_count": 84,
   "metadata": {},
   "outputs": [
    {
     "name": "stdout",
     "output_type": "stream",
     "text": [
      "32\n"
     ]
    }
   ],
   "source": [
    "#Def a function that returns a square + adds 7 to an input\n",
    "def x2p7(x):\n",
    "    \"\"\"input is x, result will be x**x +7\"\"\"\n",
    "    y=x*x\n",
    "    z=y+7\n",
    "    return z\n",
    "print(x2p7(5))"
   ]
  },
  {
   "cell_type": "code",
   "execution_count": null,
   "metadata": {},
   "outputs": [],
   "source": [
    "x2p7 #what is inside can be accessed through shift + tab"
   ]
  },
  {
   "cell_type": "code",
   "execution_count": null,
   "metadata": {},
   "outputs": [],
   "source": [
    "# A avaribale defined inside a function can not be accessed from outside the function\n",
    "#but a varible define outside a function can be accessed from inside the function"
   ]
  },
  {
   "cell_type": "code",
   "execution_count": 88,
   "metadata": {},
   "outputs": [
    {
     "name": "stdout",
     "output_type": "stream",
     "text": [
      "5\n"
     ]
    },
    {
     "ename": "NameError",
     "evalue": "name 'inside_var' is not defined",
     "output_type": "error",
     "traceback": [
      "\u001b[0;31m---------------------------------------------------------------------------\u001b[0m",
      "\u001b[0;31mNameError\u001b[0m                                 Traceback (most recent call last)",
      "\u001b[0;32m<ipython-input-88-22ea8a6fb90d>\u001b[0m in \u001b[0;36m<module>\u001b[0;34m\u001b[0m\n\u001b[1;32m      4\u001b[0m     \u001b[0mretun\u001b[0m \u001b[0;34m(\u001b[0m\u001b[0moutside_var\u001b[0m\u001b[0;34m+\u001b[0m\u001b[0minside_var\u001b[0m\u001b[0;34m)\u001b[0m\u001b[0;34m\u001b[0m\u001b[0;34m\u001b[0m\u001b[0m\n\u001b[1;32m      5\u001b[0m \u001b[0mprint\u001b[0m\u001b[0;34m(\u001b[0m\u001b[0moutside_var\u001b[0m\u001b[0;34m)\u001b[0m\u001b[0;34m\u001b[0m\u001b[0;34m\u001b[0m\u001b[0m\n\u001b[0;32m----> 6\u001b[0;31m \u001b[0mprint\u001b[0m\u001b[0;34m(\u001b[0m\u001b[0minside_var\u001b[0m\u001b[0;34m)\u001b[0m\u001b[0;34m\u001b[0m\u001b[0;34m\u001b[0m\u001b[0m\n\u001b[0m",
      "\u001b[0;31mNameError\u001b[0m: name 'inside_var' is not defined"
     ]
    }
   ],
   "source": [
    "outside_var = 5\n",
    "def func_add (outside_var):\n",
    "    inside_var = 6\n",
    "    retun (outside_var+inside_var)\n",
    "print(outside_var)\n",
    "print(inside_var)\n"
   ]
  },
  {
   "cell_type": "code",
   "execution_count": 86,
   "metadata": {},
   "outputs": [],
   "source": [
    "#We can address the scope by defining the varibale a s global variable"
   ]
  },
  {
   "cell_type": "code",
   "execution_count": 93,
   "metadata": {},
   "outputs": [
    {
     "name": "stdout",
     "output_type": "stream",
     "text": [
      "32\n"
     ]
    }
   ],
   "source": [
    "#SImple functions can alo be dfined in a line : aka LAMBDA FUNCTIONS\n",
    "x2p7V2 = lambda x:x*x+7\n",
    "print(x2p7V2(5))"
   ]
  },
  {
   "cell_type": "code",
   "execution_count": 95,
   "metadata": {},
   "outputs": [
    {
     "name": "stdout",
     "output_type": "stream",
     "text": [
      "37\n"
     ]
    }
   ],
   "source": [
    "#Lambda function can also take more than one input\n",
    "another_lambda = lambda x,y,z : x*x + y*z\n",
    "print(another_lambda(5,4,3))"
   ]
  },
  {
   "cell_type": "markdown",
   "metadata": {},
   "source": [
    "# OS Module"
   ]
  },
  {
   "cell_type": "code",
   "execution_count": 96,
   "metadata": {},
   "outputs": [
    {
     "name": "stdout",
     "output_type": "stream",
     "text": [
      "posix\n"
     ]
    }
   ],
   "source": [
    "import os\n",
    "print(os.name)"
   ]
  },
  {
   "cell_type": "markdown",
   "metadata": {},
   "source": [
    "# WORKING Directory "
   ]
  },
  {
   "cell_type": "code",
   "execution_count": 97,
   "metadata": {},
   "outputs": [
    {
     "data": {
      "text/plain": [
       "'/Users/sandeepsingh'"
      ]
     },
     "execution_count": 97,
     "metadata": {},
     "output_type": "execute_result"
    }
   ],
   "source": [
    "os.getcwd()"
   ]
  },
  {
   "cell_type": "markdown",
   "metadata": {},
   "source": [
    "# Content of a Directory"
   ]
  },
  {
   "cell_type": "code",
   "execution_count": 98,
   "metadata": {},
   "outputs": [
    {
     "data": {
      "text/plain": [
       "['.config',\n",
       " 'Python_Learning.ipynb',\n",
       " 'Music',\n",
       " '.condarc',\n",
       " 'Untitled5.ipynb',\n",
       " '.anyconnect',\n",
       " 'HC Clustering',\n",
       " 'Untitled1.ipynb',\n",
       " '.DS_Store',\n",
       " 'HC NAS FORECAST-Copy1.ipynb',\n",
       " '.CFUserTextEncoding',\n",
       " 'Untitled3.ipynb',\n",
       " 'FSC NAS FORECAST.ipynb',\n",
       " 'Untitled.ipynb',\n",
       " 'Untitled4.ipynb',\n",
       " 'Pictures',\n",
       " '.atom',\n",
       " 'L1_Preowork.ipynb',\n",
       " '2.Pyhton_NUMPY',\n",
       " 'Untitled2.ipynb',\n",
       " '.ipython',\n",
       " 'Desktop',\n",
       " 'Library',\n",
       " '.matplotlib',\n",
       " '.spyder-py3',\n",
       " '.cups',\n",
       " '.bash_sessions',\n",
       " 'Google Drive',\n",
       " 'HC NAS FORECAST.ipynb',\n",
       " 'FSC NAS FORECAST-Copy1.ipynb',\n",
       " 'Public',\n",
       " '.cisco',\n",
       " '.anaconda',\n",
       " '.ssh',\n",
       " 'Movies',\n",
       " 'Applications',\n",
       " '.Trash',\n",
       " '.ipynb_checkpoints',\n",
       " '.jupyter',\n",
       " '.keras',\n",
       " 'Documents',\n",
       " '.vscode',\n",
       " '.bash_profile',\n",
       " 'Downloads',\n",
       " '.bash_history',\n",
       " '.viminfo',\n",
       " '.conda']"
      ]
     },
     "execution_count": 98,
     "metadata": {},
     "output_type": "execute_result"
    }
   ],
   "source": [
    "os.listdir('.')"
   ]
  },
  {
   "cell_type": "code",
   "execution_count": null,
   "metadata": {},
   "outputs": [],
   "source": []
  }
 ],
 "metadata": {
  "kernelspec": {
   "display_name": "Python 3",
   "language": "python",
   "name": "python3"
  },
  "language_info": {
   "codemirror_mode": {
    "name": "ipython",
    "version": 3
   },
   "file_extension": ".py",
   "mimetype": "text/x-python",
   "name": "python",
   "nbconvert_exporter": "python",
   "pygments_lexer": "ipython3",
   "version": "3.7.4"
  }
 },
 "nbformat": 4,
 "nbformat_minor": 2
}
