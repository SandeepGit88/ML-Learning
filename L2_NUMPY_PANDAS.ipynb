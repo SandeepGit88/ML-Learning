{
 "cells": [
  {
   "cell_type": "markdown",
   "metadata": {},
   "source": [
    "# NUMPY\n",
    "Numpy is pythons packahae for maths more than +,-*/\n",
    "This includes functions like cosine, exponent, sqrt..\n",
    "We can also use numpy to generate samples from many type of random variables\n",
    "numpy also have powerful data types to define vectors, matrics, and tensors\n",
    "With these packages Numpy allows to do linear algebra, matric multiplicationand matric-vector solution"
   ]
  },
  {
   "cell_type": "code",
   "execution_count": 1,
   "metadata": {},
   "outputs": [],
   "source": [
    "import numpy as np"
   ]
  },
  {
   "cell_type": "code",
   "execution_count": 4,
   "metadata": {},
   "outputs": [
    {
     "name": "stdout",
     "output_type": "stream",
     "text": [
      "-1.0\n",
      "1.1\n",
      "5.2\n"
     ]
    }
   ],
   "source": [
    "print(np.cos(np.pi))\n",
    "print(np.sqrt(1.21))\n",
    "print(np.log(np.exp(5.2)))"
   ]
  },
  {
   "cell_type": "code",
   "execution_count": 6,
   "metadata": {},
   "outputs": [
    {
     "name": "stdout",
     "output_type": "stream",
     "text": [
      "[1 2 3]\n",
      "\n",
      "[[1 2 3]\n",
      " [4 5 6]\n",
      " [7 8 9]]\n",
      "\n",
      "[[1 4 7]\n",
      " [2 5 8]\n",
      " [3 6 9]]\n"
     ]
    }
   ],
   "source": [
    "# We can create numpy arrays by converting list\n",
    "#this is a vector\n",
    "vec= np.array([1,2,3])\n",
    "print(vec)\n",
    "#We can create matrices by converting lists of lists\n",
    "mat =np.array([[1,2,3],[4,5,6],[7,8,9]])\n",
    "print('')\n",
    "print(mat)\n",
    "print('')\n",
    "print(mat.T) # Transpose of the matrix"
   ]
  },
  {
   "cell_type": "code",
   "execution_count": 8,
   "metadata": {},
   "outputs": [
    {
     "name": "stdout",
     "output_type": "stream",
     "text": [
      "[ 0  1  2  3  4  5  6  7  8  9 10 11 12 13 14]\n",
      "\n",
      "[ 3  9 15]\n"
     ]
    }
   ],
   "source": [
    "#There are lot of other ways to create a nump array\n",
    "vec2 = np.arange(0,15)  #This is arange not range, arange is array of range\n",
    "print(vec2)\n",
    "print('')\n",
    "vec3=np.arange(3,21,6)\n",
    "print(vec3)"
   ]
  },
  {
   "cell_type": "code",
   "execution_count": 11,
   "metadata": {},
   "outputs": [
    {
     "name": "stdout",
     "output_type": "stream",
     "text": [
      "[0.         0.55555556 1.11111111 1.66666667 2.22222222 2.77777778\n",
      " 3.33333333 3.88888889 4.44444444 5.        ]\n",
      "\n",
      "[[0.         0.55555556]\n",
      " [1.11111111 1.66666667]\n",
      " [2.22222222 2.77777778]\n",
      " [3.33333333 3.88888889]\n",
      " [4.44444444 5.        ]]\n"
     ]
    }
   ],
   "source": [
    "vec4 = np.linspace(0,5,10)  #linspace includes both first and last, while range/arange recall last value is not included\n",
    "print(vec4)\n",
    "print('')\n",
    "print(vec4.reshape(5,2))"
   ]
  },
  {
   "cell_type": "code",
   "execution_count": 12,
   "metadata": {},
   "outputs": [
    {
     "name": "stdout",
     "output_type": "stream",
     "text": [
      "[[0. 0. 0.]\n",
      " [0. 0. 0.]\n",
      " [0. 0. 0.]\n",
      " [0. 0. 0.]\n",
      " [0. 0. 0.]]\n",
      "[[1. 1. 1. 1. 1.]\n",
      " [1. 1. 1. 1. 1.]\n",
      " [1. 1. 1. 1. 1.]]\n"
     ]
    }
   ],
   "source": [
    "mat2 = np.zeros([5,3])\n",
    "print(mat2)\n",
    "mat3 = np.ones([3,5])\n",
    "print(mat3)"
   ]
  },
  {
   "cell_type": "markdown",
   "metadata": {},
   "source": [
    "# Accessing entries in a nump array and matrices"
   ]
  },
  {
   "cell_type": "code",
   "execution_count": 16,
   "metadata": {},
   "outputs": [
    {
     "name": "stdout",
     "output_type": "stream",
     "text": [
      "[ 2.35129897 -1.30361467  1.12228714  0.93831605  2.79021843 -0.34890143\n",
      "  0.04177211  2.08542831 -0.12684912 -0.24977601  0.33388757  0.25377981\n",
      " -0.12702324  0.01244026 -1.90354144  2.53327156 -0.69243383 -0.74325956\n",
      "  0.44498276]\n",
      "0.04177211279980581\n"
     ]
    }
   ],
   "source": [
    "rand_vec = np.random.randn(19)\n",
    "print(rand_vec)\n",
    "print(rand_vec[6])"
   ]
  },
  {
   "cell_type": "code",
   "execution_count": 18,
   "metadata": {},
   "outputs": [
    {
     "name": "stdout",
     "output_type": "stream",
     "text": [
      "[ 2.79021843 -0.34890143  0.04177211  2.08542831 -0.12684912]\n"
     ]
    }
   ],
   "source": [
    "# We can access mulitple entries at once\n",
    "print(rand_vec[4:9])  #no to right of colon is excluded, left is included"
   ]
  },
  {
   "cell_type": "code",
   "execution_count": 20,
   "metadata": {},
   "outputs": [
    {
     "name": "stdout",
     "output_type": "stream",
     "text": [
      "[ 0  3  6  9 12]\n",
      "\n",
      "[ 2.35129897  0.93831605  0.04177211 -0.24977601 -0.12702324]\n"
     ]
    }
   ],
   "source": [
    "#We can also access multiple non-consecutive entries using np.arange\n",
    "print(np.arange(0,15,3))\n",
    "print('')\n",
    "print(rand_vec[np.arange(0,15,3)])  #We passed the incdex which we created using arange and we are searching the values for this index in the rand_vec"
   ]
  },
  {
   "cell_type": "code",
   "execution_count": 49,
   "metadata": {},
   "outputs": [
    {
     "name": "stdout",
     "output_type": "stream",
     "text": [
      "[ 1  2  3  4  5  6  7  8  9 10 11 12 13 14 15 16 17 18 19 20]\n",
      "\n",
      "[[ 1  2  3  4]\n",
      " [ 5  6  7  8]\n",
      " [ 9 10 11 12]\n",
      " [13 14 15 16]\n",
      " [17 18 19 20]]\n"
     ]
    }
   ],
   "source": [
    "rand_mat = np.arange(1,21,1)\n",
    "rand_mat1 = rand_mat.reshape(5,4)\n",
    "print(rand_mat)\n",
    "print('')\n",
    "print(rand_mat1)"
   ]
  },
  {
   "cell_type": "code",
   "execution_count": 32,
   "metadata": {},
   "outputs": [
    {
     "name": "stdout",
     "output_type": "stream",
     "text": [
      "6\n",
      "6\n"
     ]
    }
   ],
   "source": [
    "print(rand_mat1[1][1])\n",
    "print(rand_mat1[1,1])   #Please note rows and columns are seperated by a comma"
   ]
  },
  {
   "cell_type": "code",
   "execution_count": 35,
   "metadata": {},
   "outputs": [
    {
     "name": "stdout",
     "output_type": "stream",
     "text": [
      "[[1 2]\n",
      " [5 6]]\n"
     ]
    }
   ],
   "source": [
    "print(rand_mat1[0:2, 0:2])  # rows 0,1 and not 2  | colum 0,1 and not 2"
   ]
  },
  {
   "cell_type": "code",
   "execution_count": 43,
   "metadata": {},
   "outputs": [
    {
     "name": "stdout",
     "output_type": "stream",
     "text": [
      "[ 2.35129897e+00  6.00000000e+03  1.12228714e+00  9.38316049e-01\n",
      "  2.79021843e+00 -3.48901429e-01  4.17721128e-02  2.08542831e+00\n",
      " -1.26849122e-01 -2.49776015e-01  3.33887571e-01  2.53779811e-01\n",
      " -1.27023235e-01  1.24402559e-02 -1.90354144e+00  2.53327156e+00\n",
      " -6.92433827e-01 -7.43259557e-01  4.44982757e-01]\n",
      "\n",
      "[ 2.35129897e+00  6.00000000e+03  1.12228714e+00  9.38316049e-01\n",
      "  2.79021843e+00 -3.48901429e-01  4.17721128e-02  2.08542831e+00\n",
      " -1.26849122e-01 -2.49776015e-01  3.33887571e-01  2.53779811e-01\n",
      " -1.27023235e-01  1.24402559e-02 -1.90354144e+00  2.53327156e+00\n",
      " -6.92433827e-01 -7.43259557e-01  4.44982757e-01]\n",
      "[ 2.35129897e+00  6.00000000e+03  6.00000000e+03  9.38316049e-01\n",
      "  2.79021843e+00 -3.48901429e-01  4.17721128e-02  2.08542831e+00\n",
      " -1.26849122e-01 -2.49776015e-01  3.33887571e-01  2.53779811e-01\n",
      " -1.27023235e-01  1.24402559e-02 -1.90354144e+00  2.53327156e+00\n",
      " -6.92433827e-01 -7.43259557e-01  4.44982757e-01]\n",
      "\n"
     ]
    }
   ],
   "source": [
    "#Lest change some values in an array!\n",
    "print(rand_vec)\n",
    "print ('')\n",
    "rand_vec[1:2]=6000\n",
    "print(rand_vec)\n",
    "rand_vec[1:3]=6000\n",
    "print(rand_vec)\n",
    "print ('')"
   ]
  },
  {
   "cell_type": "code",
   "execution_count": 53,
   "metadata": {},
   "outputs": [
    {
     "name": "stdout",
     "output_type": "stream",
     "text": [
      "[[   1    2    3    4]\n",
      " [6000 6000 6000 6000]\n",
      " [   9   10   11   12]\n",
      " [  13   14   15   16]\n",
      " [  17   18   19   20]]\n",
      "\n",
      "[[   1    2    3    4]\n",
      " [6000 6000 6000  888]\n",
      " [   9   10   11   12]\n",
      " [  13   14   15   16]\n",
      " [  17   18   19   20]]\n",
      "\n"
     ]
    }
   ],
   "source": [
    "#Lest change some values in a matrics!\n",
    "print(rand_mat1)\n",
    "print ('')\n",
    "rand_mat1[1:2,3]=888\n",
    "print(rand_mat1)\n",
    "print ('')"
   ]
  },
  {
   "cell_type": "code",
   "execution_count": 58,
   "metadata": {},
   "outputs": [
    {
     "name": "stdout",
     "output_type": "stream",
     "text": [
      "[ 0.50439135 -0.22437448  0.21275721 -0.10432259 -0.19609928  0.45053306\n",
      " -0.10984372 -0.73316482 -0.40139334 -0.34687615  0.95079103 -1.66480099\n",
      "  0.13085551 -0.71638012 -0.84031761]\n",
      "[ True False  True False False  True False False False False  True False\n",
      "  True False False]\n",
      "[0.50439135 0.21275721 0.45053306 0.95079103 0.13085551]\n"
     ]
    }
   ],
   "source": [
    "#We can also access entries with logicls\n",
    "rand_vec = np.random.randn(15)\n",
    "print(rand_vec)\n",
    "print(rand_vec>0)\n",
    "print(rand_vec[rand_vec>0])"
   ]
  },
  {
   "cell_type": "code",
   "execution_count": 60,
   "metadata": {},
   "outputs": [
    {
     "name": "stdout",
     "output_type": "stream",
     "text": [
      "[[   1    2    3    4]\n",
      " [6000 6000 6000  888]\n",
      " [   9   10   11   12]\n",
      " [  13   14   15   16]\n",
      " [  17   18   19   20]]\n",
      "[[ True  True  True  True]\n",
      " [ True  True  True  True]\n",
      " [ True  True  True  True]\n",
      " [ True  True  True  True]\n",
      " [ True  True  True  True]]\n",
      "[   1    2    3    4 6000 6000 6000  888    9   10   11   12   13   14\n",
      "   15   16   17   18   19   20]\n"
     ]
    }
   ],
   "source": [
    "print(rand_mat1)\n",
    "print(rand_mat1>0)\n",
    "print(rand_mat1[rand_mat1>0])"
   ]
  },
  {
   "cell_type": "code",
   "execution_count": 61,
   "metadata": {},
   "outputs": [
    {
     "name": "stdout",
     "output_type": "stream",
     "text": [
      "[ 0.50439135 -0.22437448  0.21275721 -0.10432259 -0.19609928  0.45053306\n",
      " -0.10984372 -0.73316482 -0.40139334 -0.34687615  0.95079103 -1.66480099\n",
      "  0.13085551 -0.71638012 -0.84031761]\n",
      "\n",
      "[ 5.00000000e+03 -2.24374476e-01  2.12757214e-01 -1.04322588e-01\n",
      " -1.96099281e-01  4.50533063e-01 -1.09843715e-01 -7.33164825e-01\n",
      " -4.01393335e-01 -3.46876147e-01  5.00000000e+03 -1.66480099e+00\n",
      "  1.30855505e-01 -7.16380116e-01 -8.40317608e-01]\n"
     ]
    }
   ],
   "source": [
    "print(rand_vec)\n",
    "print('')\n",
    "rand_vec[rand_vec>0.5] = 5000\n",
    "print(rand_vec)"
   ]
  },
  {
   "cell_type": "code",
   "execution_count": 62,
   "metadata": {},
   "outputs": [],
   "source": [
    "#Saving an array on the disk for use later\n",
    "np.save('saved_file_name',rand_mat1)"
   ]
  },
  {
   "cell_type": "code",
   "execution_count": 63,
   "metadata": {},
   "outputs": [],
   "source": [
    "#Saving more than one numpy array\n",
    "np.savez('Ziffed_file_name',rand_mat = rand_mat, rand_mat1=rand_mat1)"
   ]
  },
  {
   "cell_type": "code",
   "execution_count": 64,
   "metadata": {},
   "outputs": [
    {
     "name": "stdout",
     "output_type": "stream",
     "text": [
      "[[   1    2    3    4]\n",
      " [6000 6000 6000  888]\n",
      " [   9   10   11   12]\n",
      " [  13   14   15   16]\n",
      " [  17   18   19   20]]\n",
      "\n",
      "<numpy.lib.npyio.NpzFile object at 0x7f9960758a90>\n"
     ]
    }
   ],
   "source": [
    "#now lets load it\n",
    "loaded_vec = np.load('saved_file_name.npy')\n",
    "loaded_Zip = np.load('Ziffed_file_name.npz')\n",
    "print(loaded_vec)\n",
    "print('')\n",
    "print(loaded_Zip)"
   ]
  },
  {
   "cell_type": "code",
   "execution_count": 65,
   "metadata": {},
   "outputs": [
    {
     "name": "stdout",
     "output_type": "stream",
     "text": [
      "[   1    2    3    4 6000 6000 6000  888    9   10   11   12   13   14\n",
      "   15   16   17   18   19   20]\n",
      "\n",
      "[[   1    2    3    4]\n",
      " [6000 6000 6000  888]\n",
      " [   9   10   11   12]\n",
      " [  13   14   15   16]\n",
      " [  17   18   19   20]]\n"
     ]
    }
   ],
   "source": [
    "print(loaded_Zip['rand_mat'])\n",
    "print('')\n",
    "print(loaded_Zip['rand_mat1'])"
   ]
  },
  {
   "cell_type": "code",
   "execution_count": 68,
   "metadata": {},
   "outputs": [],
   "source": [
    "# We can also save/load  as text files...but only single variables\n",
    "np.savetxt('text_file_name.txt',rand_mat,delimiter =',')"
   ]
  },
  {
   "cell_type": "code",
   "execution_count": 69,
   "metadata": {},
   "outputs": [
    {
     "name": "stdout",
     "output_type": "stream",
     "text": [
      "[1.00e+00 2.00e+00 3.00e+00 4.00e+00 6.00e+03 6.00e+03 6.00e+03 8.88e+02\n",
      " 9.00e+00 1.00e+01 1.10e+01 1.20e+01 1.30e+01 1.40e+01 1.50e+01 1.60e+01\n",
      " 1.70e+01 1.80e+01 1.90e+01 2.00e+01]\n"
     ]
    }
   ],
   "source": [
    "loade_txt = np.loadtxt('text_file_name.txt',delimiter =',')\n",
    "print(loade_txt)"
   ]
  },
  {
   "cell_type": "markdown",
   "metadata": {},
   "source": [
    "# PANDAS"
   ]
  },
  {
   "cell_type": "code",
   "execution_count": 70,
   "metadata": {},
   "outputs": [],
   "source": [
    "#Dataframes are more flexible than nump arrays \n",
    "#(array all columns of one datatype, whereas dataframe can have varius columns of varius datatypes)\n",
    "#Pandas has SQL like merge,join and sorting"
   ]
  },
  {
   "cell_type": "code",
   "execution_count": 72,
   "metadata": {},
   "outputs": [],
   "source": [
    "import pandas as pd\n",
    "import numpy as np"
   ]
  },
  {
   "cell_type": "markdown",
   "metadata": {},
   "source": [
    "## Pandas Series & Dataframes"
   ]
  },
  {
   "cell_type": "code",
   "execution_count": 74,
   "metadata": {},
   "outputs": [],
   "source": [
    "# First let look st Series : think of this as a single column in a spreadsheet\n",
    "#each entry ini the series corresponds to an individual row in the spreadsheet\n",
    "#We can create a series by converting  list, or numpy array\n",
    "\n",
    "mylist = [5.4,6.1,1.7,99.8]\n",
    "myarray= np.array(mylist)"
   ]
  },
  {
   "cell_type": "code",
   "execution_count": 75,
   "metadata": {},
   "outputs": [
    {
     "name": "stdout",
     "output_type": "stream",
     "text": [
      "0     5.4\n",
      "1     6.1\n",
      "2     1.7\n",
      "3    99.8\n",
      "dtype: float64\n",
      "0     5.4\n",
      "1     6.1\n",
      "2     1.7\n",
      "3    99.8\n",
      "dtype: float64\n"
     ]
    }
   ],
   "source": [
    "myseries1 = pd.Series(data=mylist)\n",
    "print(myseries1)\n",
    "myseries2 = pd.Series(data=myarray)\n",
    "print(myseries1)\n"
   ]
  },
  {
   "cell_type": "code",
   "execution_count": 76,
   "metadata": {},
   "outputs": [
    {
     "name": "stdout",
     "output_type": "stream",
     "text": [
      "1.7\n"
     ]
    }
   ],
   "source": [
    "# We can access the values in a series simillar to that of numpy arrays\n",
    "print(myseries1[2])"
   ]
  },
  {
   "cell_type": "code",
   "execution_count": null,
   "metadata": {},
   "outputs": [],
   "source": [
    "#We can add labels to the entries of a Series"
   ]
  },
  {
   "cell_type": "code",
   "execution_count": 77,
   "metadata": {},
   "outputs": [
    {
     "name": "stdout",
     "output_type": "stream",
     "text": [
      "first      5.4\n",
      "second     6.1\n",
      "third      1.7\n",
      "fourth    99.8\n",
      "dtype: float64\n"
     ]
    }
   ],
   "source": [
    "mylabels = ['first','second','third','fourth']\n",
    "myseries3=pd.Series(data=mylist,index=mylabels)\n",
    "print(myseries3)"
   ]
  },
  {
   "cell_type": "code",
   "execution_count": null,
   "metadata": {},
   "outputs": [],
   "source": [
    "# We need not be explicit about the entries of ps.Series"
   ]
  },
  {
   "cell_type": "code",
   "execution_count": 78,
   "metadata": {},
   "outputs": [
    {
     "name": "stdout",
     "output_type": "stream",
     "text": [
      "first      5.4\n",
      "second     6.1\n",
      "third      1.7\n",
      "fourth    99.8\n",
      "dtype: float64\n"
     ]
    }
   ],
   "source": [
    "myseries4 = pd.Series (mylist,mylabels)\n",
    "print(myseries4)"
   ]
  },
  {
   "cell_type": "code",
   "execution_count": 79,
   "metadata": {},
   "outputs": [
    {
     "name": "stdout",
     "output_type": "stream",
     "text": [
      "6.1\n"
     ]
    }
   ],
   "source": [
    "print(myseries4['second'])"
   ]
  },
  {
   "cell_type": "code",
   "execution_count": 80,
   "metadata": {},
   "outputs": [
    {
     "name": "stdout",
     "output_type": "stream",
     "text": [
      "first     5.5\n",
      "third     1.1\n",
      "fourth    8.8\n",
      "fifth     1.6\n",
      "dtype: float64\n",
      "\n",
      "fifth       NaN\n",
      "first      10.9\n",
      "fourth    108.6\n",
      "second      NaN\n",
      "third       2.8\n",
      "dtype: float64\n"
     ]
    }
   ],
   "source": [
    "#We can do math on series\n",
    "myseries5 = pd.Series([5.5,1.1,8.8,1.6],['first','third','fourth','fifth'])\n",
    "print(myseries5)\n",
    "print('')\n",
    "print(myseries5+myseries4)"
   ]
  },
  {
   "cell_type": "code",
   "execution_count": 85,
   "metadata": {},
   "outputs": [
    {
     "data": {
      "text/html": [
       "<div>\n",
       "<style scoped>\n",
       "    .dataframe tbody tr th:only-of-type {\n",
       "        vertical-align: middle;\n",
       "    }\n",
       "\n",
       "    .dataframe tbody tr th {\n",
       "        vertical-align: top;\n",
       "    }\n",
       "\n",
       "    .dataframe thead th {\n",
       "        text-align: right;\n",
       "    }\n",
       "</style>\n",
       "<table border=\"1\" class=\"dataframe\">\n",
       "  <thead>\n",
       "    <tr style=\"text-align: right;\">\n",
       "      <th></th>\n",
       "      <th>0</th>\n",
       "      <th>1</th>\n",
       "    </tr>\n",
       "  </thead>\n",
       "  <tbody>\n",
       "    <tr>\n",
       "      <td>first</td>\n",
       "      <td>5.4</td>\n",
       "      <td>5.5</td>\n",
       "    </tr>\n",
       "    <tr>\n",
       "      <td>second</td>\n",
       "      <td>6.1</td>\n",
       "      <td>NaN</td>\n",
       "    </tr>\n",
       "    <tr>\n",
       "      <td>third</td>\n",
       "      <td>1.7</td>\n",
       "      <td>1.1</td>\n",
       "    </tr>\n",
       "    <tr>\n",
       "      <td>fourth</td>\n",
       "      <td>99.8</td>\n",
       "      <td>8.8</td>\n",
       "    </tr>\n",
       "    <tr>\n",
       "      <td>fifth</td>\n",
       "      <td>NaN</td>\n",
       "      <td>1.6</td>\n",
       "    </tr>\n",
       "  </tbody>\n",
       "</table>\n",
       "</div>"
      ],
      "text/plain": [
       "           0    1\n",
       "first    5.4  5.5\n",
       "second   6.1  NaN\n",
       "third    1.7  1.1\n",
       "fourth  99.8  8.8\n",
       "fifth    NaN  1.6"
      ]
     },
     "execution_count": 85,
     "metadata": {},
     "output_type": "execute_result"
    }
   ],
   "source": [
    "#We can combine series to create a dataframe using concat function\n",
    "df1 = pd.concat([myseries4,myseries5],axis=1,sort=False)  #axis =1 for columns\n",
    "df1"
   ]
  },
  {
   "cell_type": "code",
   "execution_count": 86,
   "metadata": {},
   "outputs": [
    {
     "data": {
      "text/html": [
       "<div>\n",
       "<style scoped>\n",
       "    .dataframe tbody tr th:only-of-type {\n",
       "        vertical-align: middle;\n",
       "    }\n",
       "\n",
       "    .dataframe tbody tr th {\n",
       "        vertical-align: top;\n",
       "    }\n",
       "\n",
       "    .dataframe thead th {\n",
       "        text-align: right;\n",
       "    }\n",
       "</style>\n",
       "<table border=\"1\" class=\"dataframe\">\n",
       "  <thead>\n",
       "    <tr style=\"text-align: right;\">\n",
       "      <th></th>\n",
       "      <th>0</th>\n",
       "      <th>1</th>\n",
       "      <th>2</th>\n",
       "      <th>3</th>\n",
       "      <th>4</th>\n",
       "    </tr>\n",
       "  </thead>\n",
       "  <tbody>\n",
       "    <tr>\n",
       "      <td>0</td>\n",
       "      <td>1.778185</td>\n",
       "      <td>1.860801</td>\n",
       "      <td>0.623772</td>\n",
       "      <td>-0.478987</td>\n",
       "      <td>-0.748002</td>\n",
       "    </tr>\n",
       "    <tr>\n",
       "      <td>1</td>\n",
       "      <td>-0.001599</td>\n",
       "      <td>0.001036</td>\n",
       "      <td>-0.183254</td>\n",
       "      <td>-0.838611</td>\n",
       "      <td>1.011648</td>\n",
       "    </tr>\n",
       "    <tr>\n",
       "      <td>2</td>\n",
       "      <td>1.000801</td>\n",
       "      <td>-0.966229</td>\n",
       "      <td>0.144563</td>\n",
       "      <td>0.458815</td>\n",
       "      <td>0.200022</td>\n",
       "    </tr>\n",
       "    <tr>\n",
       "      <td>3</td>\n",
       "      <td>-0.050695</td>\n",
       "      <td>-0.421848</td>\n",
       "      <td>0.407281</td>\n",
       "      <td>-0.758869</td>\n",
       "      <td>0.071483</td>\n",
       "    </tr>\n",
       "    <tr>\n",
       "      <td>4</td>\n",
       "      <td>-0.496486</td>\n",
       "      <td>0.711243</td>\n",
       "      <td>0.816412</td>\n",
       "      <td>-0.198576</td>\n",
       "      <td>-1.150655</td>\n",
       "    </tr>\n",
       "  </tbody>\n",
       "</table>\n",
       "</div>"
      ],
      "text/plain": [
       "          0         1         2         3         4\n",
       "0  1.778185  1.860801  0.623772 -0.478987 -0.748002\n",
       "1 -0.001599  0.001036 -0.183254 -0.838611  1.011648\n",
       "2  1.000801 -0.966229  0.144563  0.458815  0.200022\n",
       "3 -0.050695 -0.421848  0.407281 -0.758869  0.071483\n",
       "4 -0.496486  0.711243  0.816412 -0.198576 -1.150655"
      ]
     },
     "execution_count": 86,
     "metadata": {},
     "output_type": "execute_result"
    }
   ],
   "source": [
    "#We can create a dataframe\n",
    "df2= pd.DataFrame(np.random.randn(5,5))\n",
    "df2"
   ]
  },
  {
   "cell_type": "code",
   "execution_count": 90,
   "metadata": {},
   "outputs": [
    {
     "data": {
      "text/html": [
       "<div>\n",
       "<style scoped>\n",
       "    .dataframe tbody tr th:only-of-type {\n",
       "        vertical-align: middle;\n",
       "    }\n",
       "\n",
       "    .dataframe tbody tr th {\n",
       "        vertical-align: top;\n",
       "    }\n",
       "\n",
       "    .dataframe thead th {\n",
       "        text-align: right;\n",
       "    }\n",
       "</style>\n",
       "<table border=\"1\" class=\"dataframe\">\n",
       "  <thead>\n",
       "    <tr style=\"text-align: right;\">\n",
       "      <th></th>\n",
       "      <th>first col</th>\n",
       "      <th>second col</th>\n",
       "      <th>third col</th>\n",
       "      <th>fourth col</th>\n",
       "      <th>fifth col</th>\n",
       "    </tr>\n",
       "  </thead>\n",
       "  <tbody>\n",
       "    <tr>\n",
       "      <td>first row</td>\n",
       "      <td>-0.671262</td>\n",
       "      <td>-0.098627</td>\n",
       "      <td>-0.334107</td>\n",
       "      <td>-0.179872</td>\n",
       "      <td>-0.603082</td>\n",
       "    </tr>\n",
       "    <tr>\n",
       "      <td>second row</td>\n",
       "      <td>1.073925</td>\n",
       "      <td>0.914730</td>\n",
       "      <td>-0.808270</td>\n",
       "      <td>-0.427714</td>\n",
       "      <td>0.407046</td>\n",
       "    </tr>\n",
       "    <tr>\n",
       "      <td>third row</td>\n",
       "      <td>0.136185</td>\n",
       "      <td>1.225036</td>\n",
       "      <td>0.352677</td>\n",
       "      <td>1.028644</td>\n",
       "      <td>0.175849</td>\n",
       "    </tr>\n",
       "    <tr>\n",
       "      <td>fourth row</td>\n",
       "      <td>0.037277</td>\n",
       "      <td>0.522727</td>\n",
       "      <td>0.770994</td>\n",
       "      <td>-0.518204</td>\n",
       "      <td>-1.312977</td>\n",
       "    </tr>\n",
       "    <tr>\n",
       "      <td>fifth row</td>\n",
       "      <td>-0.165082</td>\n",
       "      <td>1.905732</td>\n",
       "      <td>0.074423</td>\n",
       "      <td>0.090313</td>\n",
       "      <td>-0.276045</td>\n",
       "    </tr>\n",
       "  </tbody>\n",
       "</table>\n",
       "</div>"
      ],
      "text/plain": [
       "            first col  second col  third col  fourth col  fifth col\n",
       "first row   -0.671262   -0.098627  -0.334107   -0.179872  -0.603082\n",
       "second row   1.073925    0.914730  -0.808270   -0.427714   0.407046\n",
       "third row    0.136185    1.225036   0.352677    1.028644   0.175849\n",
       "fourth row   0.037277    0.522727   0.770994   -0.518204  -1.312977\n",
       "fifth row   -0.165082    1.905732   0.074423    0.090313  -0.276045"
      ]
     },
     "execution_count": 90,
     "metadata": {},
     "output_type": "execute_result"
    }
   ],
   "source": [
    "#We can give labels to rows and columns\n",
    "df3 = pd.DataFrame(np.random.randn(5,5),index= ['first row','second row', 'third row', 'fourth row','fifth row'],\n",
    "columns=['first col','second col','third col','fourth col','fifth col'])\n",
    "df3"
   ]
  },
  {
   "cell_type": "code",
   "execution_count": 91,
   "metadata": {},
   "outputs": [
    {
     "name": "stdout",
     "output_type": "stream",
     "text": [
      "first row    -0.098627\n",
      "second row    0.914730\n",
      "third row     1.225036\n",
      "fourth row    0.522727\n",
      "fifth row     1.905732\n",
      "Name: second col, dtype: float64\n",
      "\n"
     ]
    },
    {
     "data": {
      "text/html": [
       "<div>\n",
       "<style scoped>\n",
       "    .dataframe tbody tr th:only-of-type {\n",
       "        vertical-align: middle;\n",
       "    }\n",
       "\n",
       "    .dataframe tbody tr th {\n",
       "        vertical-align: top;\n",
       "    }\n",
       "\n",
       "    .dataframe thead th {\n",
       "        text-align: right;\n",
       "    }\n",
       "</style>\n",
       "<table border=\"1\" class=\"dataframe\">\n",
       "  <thead>\n",
       "    <tr style=\"text-align: right;\">\n",
       "      <th></th>\n",
       "      <th>third col</th>\n",
       "      <th>fourth col</th>\n",
       "    </tr>\n",
       "  </thead>\n",
       "  <tbody>\n",
       "    <tr>\n",
       "      <td>first row</td>\n",
       "      <td>-0.334107</td>\n",
       "      <td>-0.179872</td>\n",
       "    </tr>\n",
       "    <tr>\n",
       "      <td>second row</td>\n",
       "      <td>-0.808270</td>\n",
       "      <td>-0.427714</td>\n",
       "    </tr>\n",
       "    <tr>\n",
       "      <td>third row</td>\n",
       "      <td>0.352677</td>\n",
       "      <td>1.028644</td>\n",
       "    </tr>\n",
       "    <tr>\n",
       "      <td>fourth row</td>\n",
       "      <td>0.770994</td>\n",
       "      <td>-0.518204</td>\n",
       "    </tr>\n",
       "    <tr>\n",
       "      <td>fifth row</td>\n",
       "      <td>0.074423</td>\n",
       "      <td>0.090313</td>\n",
       "    </tr>\n",
       "  </tbody>\n",
       "</table>\n",
       "</div>"
      ],
      "text/plain": [
       "            third col  fourth col\n",
       "first row   -0.334107   -0.179872\n",
       "second row  -0.808270   -0.427714\n",
       "third row    0.352677    1.028644\n",
       "fourth row   0.770994   -0.518204\n",
       "fifth row    0.074423    0.090313"
      ]
     },
     "execution_count": 91,
     "metadata": {},
     "output_type": "execute_result"
    }
   ],
   "source": [
    "# We can access individual serie in df\n",
    "print(df3['second col'])\n",
    "print('')\n",
    "df3[['third col','fourth col']]"
   ]
  },
  {
   "cell_type": "code",
   "execution_count": 93,
   "metadata": {},
   "outputs": [
    {
     "data": {
      "text/plain": [
       "first col     0.037277\n",
       "second col    0.522727\n",
       "third col     0.770994\n",
       "fourth col   -0.518204\n",
       "fifth col    -1.312977\n",
       "Name: fourth row, dtype: float64"
      ]
     },
     "execution_count": 93,
     "metadata": {},
     "output_type": "execute_result"
    }
   ],
   "source": [
    "#We can access rows of a df\n",
    "df3.loc['fourth row'] #loc is for location"
   ]
  },
  {
   "cell_type": "code",
   "execution_count": 97,
   "metadata": {},
   "outputs": [
    {
     "data": {
      "text/plain": [
       "first col     0.136185\n",
       "second col    1.225036\n",
       "third col     0.352677\n",
       "fourth col    1.028644\n",
       "fifth col     0.175849\n",
       "Name: third row, dtype: float64"
      ]
     },
     "execution_count": 97,
     "metadata": {},
     "output_type": "execute_result"
    }
   ],
   "source": [
    "df3.iloc[2]"
   ]
  },
  {
   "cell_type": "code",
   "execution_count": 98,
   "metadata": {},
   "outputs": [
    {
     "name": "stdout",
     "output_type": "stream",
     "text": [
      "abc200\n"
     ]
    }
   ],
   "source": [
    "a = 'abc'\n",
    "b = '200'\n",
    "print(a+b)"
   ]
  },
  {
   "cell_type": "code",
   "execution_count": null,
   "metadata": {},
   "outputs": [],
   "source": []
  },
  {
   "cell_type": "code",
   "execution_count": null,
   "metadata": {},
   "outputs": [],
   "source": []
  },
  {
   "cell_type": "code",
   "execution_count": null,
   "metadata": {},
   "outputs": [],
   "source": []
  },
  {
   "cell_type": "code",
   "execution_count": null,
   "metadata": {},
   "outputs": [],
   "source": []
  },
  {
   "cell_type": "code",
   "execution_count": null,
   "metadata": {},
   "outputs": [],
   "source": []
  },
  {
   "cell_type": "code",
   "execution_count": null,
   "metadata": {},
   "outputs": [],
   "source": []
  },
  {
   "cell_type": "code",
   "execution_count": null,
   "metadata": {},
   "outputs": [],
   "source": []
  },
  {
   "cell_type": "code",
   "execution_count": null,
   "metadata": {},
   "outputs": [],
   "source": []
  },
  {
   "cell_type": "code",
   "execution_count": null,
   "metadata": {},
   "outputs": [],
   "source": []
  },
  {
   "cell_type": "code",
   "execution_count": null,
   "metadata": {},
   "outputs": [],
   "source": []
  },
  {
   "cell_type": "code",
   "execution_count": null,
   "metadata": {},
   "outputs": [],
   "source": []
  },
  {
   "cell_type": "code",
   "execution_count": null,
   "metadata": {},
   "outputs": [],
   "source": []
  },
  {
   "cell_type": "code",
   "execution_count": null,
   "metadata": {},
   "outputs": [],
   "source": []
  },
  {
   "cell_type": "code",
   "execution_count": null,
   "metadata": {},
   "outputs": [],
   "source": []
  },
  {
   "cell_type": "code",
   "execution_count": null,
   "metadata": {},
   "outputs": [],
   "source": []
  },
  {
   "cell_type": "code",
   "execution_count": null,
   "metadata": {},
   "outputs": [],
   "source": []
  }
 ],
 "metadata": {
  "kernelspec": {
   "display_name": "Python 3",
   "language": "python",
   "name": "python3"
  },
  "language_info": {
   "codemirror_mode": {
    "name": "ipython",
    "version": 3
   },
   "file_extension": ".py",
   "mimetype": "text/x-python",
   "name": "python",
   "nbconvert_exporter": "python",
   "pygments_lexer": "ipython3",
   "version": "3.7.4"
  }
 },
 "nbformat": 4,
 "nbformat_minor": 2
}
